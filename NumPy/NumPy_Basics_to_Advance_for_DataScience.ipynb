{
 "cells": [
  {
   "cell_type": "markdown",
   "id": "92ceedf5-3a8a-41f5-bfb7-41abae945953",
   "metadata": {},
   "source": [
    "# Single dimension NumPy Array\n"
   ]
  },
  {
   "cell_type": "code",
   "execution_count": 12,
   "id": "6bb9af49-82bb-4080-88d3-88e399b7ca66",
   "metadata": {},
   "outputs": [
    {
     "name": "stdout",
     "output_type": "stream",
     "text": [
      "Requirement already satisfied: numpy in /home/dipesh/.pyenv/versions/3.11.9/lib/python3.11/site-packages (2.2.6)\n",
      "\n",
      "\u001b[1m[\u001b[0m\u001b[34;49mnotice\u001b[0m\u001b[1;39;49m]\u001b[0m\u001b[39;49m A new release of pip is available: \u001b[0m\u001b[31;49m24.0\u001b[0m\u001b[39;49m -> \u001b[0m\u001b[32;49m25.1.1\u001b[0m\n",
      "\u001b[1m[\u001b[0m\u001b[34;49mnotice\u001b[0m\u001b[1;39;49m]\u001b[0m\u001b[39;49m To update, run: \u001b[0m\u001b[32;49mpip install --upgrade pip\u001b[0m\n"
     ]
    }
   ],
   "source": [
    "!pip install numpy"
   ]
  },
  {
   "cell_type": "code",
   "execution_count": 17,
   "id": "9b3413db-9880-49e5-881a-93473800a369",
   "metadata": {},
   "outputs": [
    {
     "data": {
      "text/plain": [
       "array([10, 20, 30, 40])"
      ]
     },
     "execution_count": 17,
     "metadata": {},
     "output_type": "execute_result"
    }
   ],
   "source": [
    "import numpy as np\n",
    "n1=np.array([10,20,30,40])\n",
    "n1"
   ]
  },
  {
   "cell_type": "code",
   "execution_count": 18,
   "id": "5792f0bb-e17e-4c7c-b125-43b64c0c82d7",
   "metadata": {},
   "outputs": [
    {
     "data": {
      "text/plain": [
       "numpy.ndarray"
      ]
     },
     "execution_count": 18,
     "metadata": {},
     "output_type": "execute_result"
    }
   ],
   "source": [
    "type(n1)"
   ]
  },
  {
   "cell_type": "markdown",
   "id": "dd4c928e-edd3-4a76-95fd-69e547423396",
   "metadata": {},
   "source": [
    "# Multidimension NumPy array"
   ]
  },
  {
   "cell_type": "code",
   "execution_count": 19,
   "id": "e7e42463-daae-4e7c-9439-f6a6a46fe153",
   "metadata": {},
   "outputs": [
    {
     "name": "stdout",
     "output_type": "stream",
     "text": [
      "[[10 20 30]\n",
      " [10 80 90]\n",
      " [10 20 50]]\n"
     ]
    }
   ],
   "source": [
    "import numpy as np\n",
    "n2=np.array([[10,20,30],[10,80,90],[10,20,50]])\n",
    "print(n2)\n"
   ]
  },
  {
   "cell_type": "markdown",
   "id": "df1f059f-fa71-4b1a-9e12-2428bd865026",
   "metadata": {},
   "source": [
    "# initilize NumPy array with zeros"
   ]
  },
  {
   "cell_type": "code",
   "execution_count": 21,
   "id": "8fbe140b-4f0a-4705-86fd-b753c65d2bd9",
   "metadata": {},
   "outputs": [
    {
     "data": {
      "text/plain": [
       "array([[0., 0., 0.],\n",
       "       [0., 0., 0.]])"
      ]
     },
     "execution_count": 21,
     "metadata": {},
     "output_type": "execute_result"
    }
   ],
   "source": [
    "n3=np.zeros((2,3))\n",
    "n3"
   ]
  },
  {
   "cell_type": "code",
   "execution_count": 22,
   "id": "38a4ac37-c0b2-44db-a337-b97c1214c084",
   "metadata": {},
   "outputs": [
    {
     "data": {
      "text/plain": [
       "array([[0., 0., 0., 0., 0., 0., 0., 0., 0.],\n",
       "       [0., 0., 0., 0., 0., 0., 0., 0., 0.],\n",
       "       [0., 0., 0., 0., 0., 0., 0., 0., 0.],\n",
       "       [0., 0., 0., 0., 0., 0., 0., 0., 0.],\n",
       "       [0., 0., 0., 0., 0., 0., 0., 0., 0.],\n",
       "       [0., 0., 0., 0., 0., 0., 0., 0., 0.],\n",
       "       [0., 0., 0., 0., 0., 0., 0., 0., 0.],\n",
       "       [0., 0., 0., 0., 0., 0., 0., 0., 0.],\n",
       "       [0., 0., 0., 0., 0., 0., 0., 0., 0.]])"
      ]
     },
     "execution_count": 22,
     "metadata": {},
     "output_type": "execute_result"
    }
   ],
   "source": [
    "n4=np.zeros((9,9))\n",
    "n4"
   ]
  },
  {
   "cell_type": "markdown",
   "id": "877b4b7d-ea8f-4b97-8dcf-34e84cb8be7c",
   "metadata": {},
   "source": [
    "# initilization a array of matrix with full then"
   ]
  },
  {
   "cell_type": "code",
   "execution_count": 24,
   "id": "efeb8ee7-634a-49ae-9ceb-add8adba75b4",
   "metadata": {},
   "outputs": [
    {
     "data": {
      "text/plain": [
       "array([[9, 9, 9],\n",
       "       [9, 9, 9],\n",
       "       [9, 9, 9]])"
      ]
     },
     "execution_count": 24,
     "metadata": {},
     "output_type": "execute_result"
    }
   ],
   "source": [
    "n5=np.full((3,3),9)\n",
    "n5"
   ]
  },
  {
   "cell_type": "markdown",
   "id": "98bfc164-3dab-4fee-98fe-8c58b0171232",
   "metadata": {},
   "source": [
    "# initilization of NumPy array within a range."
   ]
  },
  {
   "cell_type": "code",
   "execution_count": 25,
   "id": "c0c98859-5114-4241-b9aa-e8dfc3fd281f",
   "metadata": {},
   "outputs": [
    {
     "data": {
      "text/plain": [
       "array([10, 11, 12, 13, 14, 15, 16, 17, 18, 19])"
      ]
     },
     "execution_count": 25,
     "metadata": {},
     "output_type": "execute_result"
    }
   ],
   "source": [
    "n6=np.arange(10,20)\n",
    "n6"
   ]
  },
  {
   "cell_type": "markdown",
   "id": "3f78bbfa-f76e-4aba-bf99-26168aa661d7",
   "metadata": {},
   "source": [
    "# initilization of NumpPy array with the skip numbers"
   ]
  },
  {
   "cell_type": "code",
   "execution_count": 26,
   "id": "0530ffaf-17ed-4807-b033-96bdbd48361a",
   "metadata": {},
   "outputs": [
    {
     "data": {
      "text/plain": [
       "array([1, 3, 5, 7, 9])"
      ]
     },
     "execution_count": 26,
     "metadata": {},
     "output_type": "execute_result"
    }
   ],
   "source": [
    "n9=np.arange(1,10,2)\n",
    "n9"
   ]
  },
  {
   "cell_type": "markdown",
   "id": "bac65ad0-6492-4e03-9aca-511cbd8bb1f4",
   "metadata": {},
   "source": [
    "# initilization of NumpPy array with the random numbers"
   ]
  },
  {
   "cell_type": "code",
   "execution_count": 30,
   "id": "6d91572e-a034-4ab1-ae2c-c89841dd6f12",
   "metadata": {},
   "outputs": [
    {
     "data": {
      "text/plain": [
       "array([319, 935, 808, 882, 722, 533, 987, 590, 704, 278])"
      ]
     },
     "execution_count": 30,
     "metadata": {},
     "output_type": "execute_result"
    }
   ],
   "source": [
    "n11=np.random.randint(100,1000,10)\n",
    "n11"
   ]
  },
  {
   "cell_type": "markdown",
   "id": "7a004239-748a-480d-89aa-b0101024560e",
   "metadata": {},
   "source": [
    "# initilization the array shape changes in a fraction of seconds."
   ]
  },
  {
   "cell_type": "code",
   "execution_count": 33,
   "id": "6ca38a02-87dd-44b9-970b-6fde20a09444",
   "metadata": {},
   "outputs": [
    {
     "data": {
      "text/plain": [
       "array([[10, 20, 30],\n",
       "       [10, 30, 50],\n",
       "       [10, 40, 50],\n",
       "       [10, 90, 60]])"
      ]
     },
     "execution_count": 33,
     "metadata": {},
     "output_type": "execute_result"
    }
   ],
   "source": [
    "n12=np.array([[10,20,30],[10,30,50],[10,40,50],[10,90,60]])\n",
    "n12"
   ]
  },
  {
   "cell_type": "code",
   "execution_count": 36,
   "id": "0b21c9b7-9641-4f07-9737-12b8422efa80",
   "metadata": {},
   "outputs": [
    {
     "data": {
      "text/plain": [
       "(4, 3)"
      ]
     },
     "execution_count": 36,
     "metadata": {},
     "output_type": "execute_result"
    }
   ],
   "source": [
    "n12.shape\n"
   ]
  },
  {
   "cell_type": "code",
   "execution_count": 40,
   "id": "e27e7f39-d336-4e9e-8663-e63f40aa8959",
   "metadata": {},
   "outputs": [
    {
     "data": {
      "text/plain": [
       "array([[10, 20, 30, 10],\n",
       "       [30, 50, 10, 40],\n",
       "       [50, 10, 90, 60]])"
      ]
     },
     "execution_count": 40,
     "metadata": {},
     "output_type": "execute_result"
    }
   ],
   "source": [
    "n12.shape=(3,4)\n",
    "n12"
   ]
  },
  {
   "cell_type": "markdown",
   "id": "4b27caf3-0a2f-4639-b84f-36a50d8c8298",
   "metadata": {},
   "source": [
    "# joining Numpy array"
   ]
  },
  {
   "cell_type": "code",
   "execution_count": 41,
   "id": "9b318110-0932-4041-84d2-4076022d3ecd",
   "metadata": {},
   "outputs": [],
   "source": [
    "a=np.array([10,20,30,40,50,60,70,80,90,100])\n",
    "b=np.array([11,22,33,44,55,66,77,87,97,101])"
   ]
  },
  {
   "cell_type": "code",
   "execution_count": 42,
   "id": "b6a75456-fb65-4e07-a987-507ed5f65fa8",
   "metadata": {},
   "outputs": [
    {
     "data": {
      "text/plain": [
       "array([[ 10,  20,  30,  40,  50,  60,  70,  80,  90, 100],\n",
       "       [ 11,  22,  33,  44,  55,  66,  77,  87,  97, 101]])"
      ]
     },
     "execution_count": 42,
     "metadata": {},
     "output_type": "execute_result"
    }
   ],
   "source": [
    "np.vstack((a,b))"
   ]
  },
  {
   "cell_type": "code",
   "execution_count": 43,
   "id": "45b3f23e-d076-45fb-a05c-7148e01b4dc6",
   "metadata": {},
   "outputs": [
    {
     "data": {
      "text/plain": [
       "array([ 10,  20,  30,  40,  50,  60,  70,  80,  90, 100,  11,  22,  33,\n",
       "        44,  55,  66,  77,  87,  97, 101])"
      ]
     },
     "execution_count": 43,
     "metadata": {},
     "output_type": "execute_result"
    }
   ],
   "source": [
    "np.hstack((a,b))"
   ]
  },
  {
   "cell_type": "code",
   "execution_count": 44,
   "id": "db78a776-cc1a-493a-a5c6-08f35b561d8d",
   "metadata": {},
   "outputs": [
    {
     "data": {
      "text/plain": [
       "array([[ 10,  11],\n",
       "       [ 20,  22],\n",
       "       [ 30,  33],\n",
       "       [ 40,  44],\n",
       "       [ 50,  55],\n",
       "       [ 60,  66],\n",
       "       [ 70,  77],\n",
       "       [ 80,  87],\n",
       "       [ 90,  97],\n",
       "       [100, 101]])"
      ]
     },
     "execution_count": 44,
     "metadata": {},
     "output_type": "execute_result"
    }
   ],
   "source": [
    "np.column_stack((a,b))"
   ]
  },
  {
   "cell_type": "code",
   "execution_count": null,
   "id": "238c0d6c-3ff3-4d1d-9010-d3837d2c9204",
   "metadata": {},
   "outputs": [],
   "source": []
  }
 ],
 "metadata": {
  "kernelspec": {
   "display_name": "Python 3 (ipykernel)",
   "language": "python",
   "name": "python3"
  },
  "language_info": {
   "codemirror_mode": {
    "name": "ipython",
    "version": 3
   },
   "file_extension": ".py",
   "mimetype": "text/x-python",
   "name": "python",
   "nbconvert_exporter": "python",
   "pygments_lexer": "ipython3",
   "version": "3.12.7"
  }
 },
 "nbformat": 4,
 "nbformat_minor": 5
}
