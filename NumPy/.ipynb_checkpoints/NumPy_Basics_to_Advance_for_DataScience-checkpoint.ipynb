{
 "cells": [
  {
   "cell_type": "markdown",
   "id": "92ceedf5-3a8a-41f5-bfb7-41abae945953",
   "metadata": {},
   "source": [
    "# Single dimension NumPy Array\n"
   ]
  },
  {
   "cell_type": "code",
   "execution_count": 12,
   "id": "6bb9af49-82bb-4080-88d3-88e399b7ca66",
   "metadata": {},
   "outputs": [
    {
     "name": "stdout",
     "output_type": "stream",
     "text": [
      "Requirement already satisfied: numpy in /home/dipesh/.pyenv/versions/3.11.9/lib/python3.11/site-packages (2.2.6)\n",
      "\n",
      "\u001b[1m[\u001b[0m\u001b[34;49mnotice\u001b[0m\u001b[1;39;49m]\u001b[0m\u001b[39;49m A new release of pip is available: \u001b[0m\u001b[31;49m24.0\u001b[0m\u001b[39;49m -> \u001b[0m\u001b[32;49m25.1.1\u001b[0m\n",
      "\u001b[1m[\u001b[0m\u001b[34;49mnotice\u001b[0m\u001b[1;39;49m]\u001b[0m\u001b[39;49m To update, run: \u001b[0m\u001b[32;49mpip install --upgrade pip\u001b[0m\n"
     ]
    }
   ],
   "source": [
    "!pip install numpy"
   ]
  },
  {
   "cell_type": "code",
   "execution_count": 5,
   "id": "9b3413db-9880-49e5-881a-93473800a369",
   "metadata": {},
   "outputs": [
    {
     "data": {
      "text/plain": [
       "array([10, 20, 30, 40])"
      ]
     },
     "execution_count": 5,
     "metadata": {},
     "output_type": "execute_result"
    }
   ],
   "source": [
    "import numpy as np\n",
    "n1=np.array([10,20,30,40])\n",
    "n1"
   ]
  },
  {
   "cell_type": "code",
   "execution_count": 6,
   "id": "5792f0bb-e17e-4c7c-b125-43b64c0c82d7",
   "metadata": {},
   "outputs": [
    {
     "data": {
      "text/plain": [
       "numpy.ndarray"
      ]
     },
     "execution_count": 6,
     "metadata": {},
     "output_type": "execute_result"
    }
   ],
   "source": [
    "type(n1)"
   ]
  },
  {
   "cell_type": "markdown",
   "id": "dd4c928e-edd3-4a76-95fd-69e547423396",
   "metadata": {},
   "source": [
    "# Multidimension NumPy array"
   ]
  },
  {
   "cell_type": "code",
   "execution_count": 19,
   "id": "e7e42463-daae-4e7c-9439-f6a6a46fe153",
   "metadata": {},
   "outputs": [
    {
     "name": "stdout",
     "output_type": "stream",
     "text": [
      "[[10 20 30]\n",
      " [10 80 90]\n",
      " [10 20 50]]\n"
     ]
    }
   ],
   "source": [
    "import numpy as np\n",
    "n2=np.array([[10,20,30],[10,80,90],[10,20,50]])\n",
    "print(n2)\n"
   ]
  },
  {
   "cell_type": "markdown",
   "id": "df1f059f-fa71-4b1a-9e12-2428bd865026",
   "metadata": {},
   "source": [
    "# initilize NumPy array with zeros"
   ]
  },
  {
   "cell_type": "code",
   "execution_count": 21,
   "id": "8fbe140b-4f0a-4705-86fd-b753c65d2bd9",
   "metadata": {},
   "outputs": [
    {
     "data": {
      "text/plain": [
       "array([[0., 0., 0.],\n",
       "       [0., 0., 0.]])"
      ]
     },
     "execution_count": 21,
     "metadata": {},
     "output_type": "execute_result"
    }
   ],
   "source": [
    "n3=np.zeros((2,3))\n",
    "n3"
   ]
  },
  {
   "cell_type": "code",
   "execution_count": 22,
   "id": "38a4ac37-c0b2-44db-a337-b97c1214c084",
   "metadata": {},
   "outputs": [
    {
     "data": {
      "text/plain": [
       "array([[0., 0., 0., 0., 0., 0., 0., 0., 0.],\n",
       "       [0., 0., 0., 0., 0., 0., 0., 0., 0.],\n",
       "       [0., 0., 0., 0., 0., 0., 0., 0., 0.],\n",
       "       [0., 0., 0., 0., 0., 0., 0., 0., 0.],\n",
       "       [0., 0., 0., 0., 0., 0., 0., 0., 0.],\n",
       "       [0., 0., 0., 0., 0., 0., 0., 0., 0.],\n",
       "       [0., 0., 0., 0., 0., 0., 0., 0., 0.],\n",
       "       [0., 0., 0., 0., 0., 0., 0., 0., 0.],\n",
       "       [0., 0., 0., 0., 0., 0., 0., 0., 0.]])"
      ]
     },
     "execution_count": 22,
     "metadata": {},
     "output_type": "execute_result"
    }
   ],
   "source": [
    "n4=np.zeros((9,9))\n",
    "n4"
   ]
  },
  {
   "cell_type": "markdown",
   "id": "877b4b7d-ea8f-4b97-8dcf-34e84cb8be7c",
   "metadata": {},
   "source": [
    "# initilization a array of matrix with full then"
   ]
  },
  {
   "cell_type": "code",
   "execution_count": 24,
   "id": "efeb8ee7-634a-49ae-9ceb-add8adba75b4",
   "metadata": {},
   "outputs": [
    {
     "data": {
      "text/plain": [
       "array([[9, 9, 9],\n",
       "       [9, 9, 9],\n",
       "       [9, 9, 9]])"
      ]
     },
     "execution_count": 24,
     "metadata": {},
     "output_type": "execute_result"
    }
   ],
   "source": [
    "n5=np.full((3,3),9)\n",
    "n5"
   ]
  },
  {
   "cell_type": "markdown",
   "id": "98bfc164-3dab-4fee-98fe-8c58b0171232",
   "metadata": {},
   "source": [
    "# initilization of NumPy array within a range."
   ]
  },
  {
   "cell_type": "code",
   "execution_count": 25,
   "id": "c0c98859-5114-4241-b9aa-e8dfc3fd281f",
   "metadata": {},
   "outputs": [
    {
     "data": {
      "text/plain": [
       "array([10, 11, 12, 13, 14, 15, 16, 17, 18, 19])"
      ]
     },
     "execution_count": 25,
     "metadata": {},
     "output_type": "execute_result"
    }
   ],
   "source": [
    "n6=np.arange(10,20)\n",
    "n6"
   ]
  },
  {
   "cell_type": "markdown",
   "id": "3f78bbfa-f76e-4aba-bf99-26168aa661d7",
   "metadata": {},
   "source": [
    "# initilization of NumpPy array with the skip numbers"
   ]
  },
  {
   "cell_type": "code",
   "execution_count": 26,
   "id": "0530ffaf-17ed-4807-b033-96bdbd48361a",
   "metadata": {},
   "outputs": [
    {
     "data": {
      "text/plain": [
       "array([1, 3, 5, 7, 9])"
      ]
     },
     "execution_count": 26,
     "metadata": {},
     "output_type": "execute_result"
    }
   ],
   "source": [
    "n9=np.arange(1,10,2)\n",
    "n9"
   ]
  },
  {
   "cell_type": "markdown",
   "id": "bac65ad0-6492-4e03-9aca-511cbd8bb1f4",
   "metadata": {},
   "source": [
    "# initilization of NumpPy array with the random numbers"
   ]
  },
  {
   "cell_type": "code",
   "execution_count": 30,
   "id": "6d91572e-a034-4ab1-ae2c-c89841dd6f12",
   "metadata": {},
   "outputs": [
    {
     "data": {
      "text/plain": [
       "array([319, 935, 808, 882, 722, 533, 987, 590, 704, 278])"
      ]
     },
     "execution_count": 30,
     "metadata": {},
     "output_type": "execute_result"
    }
   ],
   "source": [
    "n11=np.random.randint(100,1000,10)\n",
    "n11"
   ]
  },
  {
   "cell_type": "markdown",
   "id": "7a004239-748a-480d-89aa-b0101024560e",
   "metadata": {},
   "source": [
    "# initilization the array shape changes in a fraction of seconds."
   ]
  },
  {
   "cell_type": "code",
   "execution_count": 33,
   "id": "6ca38a02-87dd-44b9-970b-6fde20a09444",
   "metadata": {},
   "outputs": [
    {
     "data": {
      "text/plain": [
       "array([[10, 20, 30],\n",
       "       [10, 30, 50],\n",
       "       [10, 40, 50],\n",
       "       [10, 90, 60]])"
      ]
     },
     "execution_count": 33,
     "metadata": {},
     "output_type": "execute_result"
    }
   ],
   "source": [
    "n12=np.array([[10,20,30],[10,30,50],[10,40,50],[10,90,60]])\n",
    "n12"
   ]
  },
  {
   "cell_type": "code",
   "execution_count": 36,
   "id": "0b21c9b7-9641-4f07-9737-12b8422efa80",
   "metadata": {},
   "outputs": [
    {
     "data": {
      "text/plain": [
       "(4, 3)"
      ]
     },
     "execution_count": 36,
     "metadata": {},
     "output_type": "execute_result"
    }
   ],
   "source": [
    "n12.shape\n"
   ]
  },
  {
   "cell_type": "code",
   "execution_count": 40,
   "id": "e27e7f39-d336-4e9e-8663-e63f40aa8959",
   "metadata": {},
   "outputs": [
    {
     "data": {
      "text/plain": [
       "array([[10, 20, 30, 10],\n",
       "       [30, 50, 10, 40],\n",
       "       [50, 10, 90, 60]])"
      ]
     },
     "execution_count": 40,
     "metadata": {},
     "output_type": "execute_result"
    }
   ],
   "source": [
    "n12.shape=(3,4)\n",
    "n12"
   ]
  },
  {
   "cell_type": "markdown",
   "id": "4b27caf3-0a2f-4639-b84f-36a50d8c8298",
   "metadata": {},
   "source": [
    "# joining Numpy array"
   ]
  },
  {
   "cell_type": "code",
   "execution_count": 41,
   "id": "9b318110-0932-4041-84d2-4076022d3ecd",
   "metadata": {},
   "outputs": [],
   "source": [
    "a=np.array([10,20,30,40,50,60,70,80,90,100])\n",
    "b=np.array([11,22,33,44,55,66,77,87,97,101])"
   ]
  },
  {
   "cell_type": "code",
   "execution_count": 42,
   "id": "b6a75456-fb65-4e07-a987-507ed5f65fa8",
   "metadata": {},
   "outputs": [
    {
     "data": {
      "text/plain": [
       "array([[ 10,  20,  30,  40,  50,  60,  70,  80,  90, 100],\n",
       "       [ 11,  22,  33,  44,  55,  66,  77,  87,  97, 101]])"
      ]
     },
     "execution_count": 42,
     "metadata": {},
     "output_type": "execute_result"
    }
   ],
   "source": [
    "np.vstack((a,b))"
   ]
  },
  {
   "cell_type": "code",
   "execution_count": 43,
   "id": "45b3f23e-d076-45fb-a05c-7148e01b4dc6",
   "metadata": {},
   "outputs": [
    {
     "data": {
      "text/plain": [
       "array([ 10,  20,  30,  40,  50,  60,  70,  80,  90, 100,  11,  22,  33,\n",
       "        44,  55,  66,  77,  87,  97, 101])"
      ]
     },
     "execution_count": 43,
     "metadata": {},
     "output_type": "execute_result"
    }
   ],
   "source": [
    "np.hstack((a,b))"
   ]
  },
  {
   "cell_type": "code",
   "execution_count": 44,
   "id": "db78a776-cc1a-493a-a5c6-08f35b561d8d",
   "metadata": {},
   "outputs": [
    {
     "data": {
      "text/plain": [
       "array([[ 10,  11],\n",
       "       [ 20,  22],\n",
       "       [ 30,  33],\n",
       "       [ 40,  44],\n",
       "       [ 50,  55],\n",
       "       [ 60,  66],\n",
       "       [ 70,  77],\n",
       "       [ 80,  87],\n",
       "       [ 90,  97],\n",
       "       [100, 101]])"
      ]
     },
     "execution_count": 44,
     "metadata": {},
     "output_type": "execute_result"
    }
   ],
   "source": [
    "np.column_stack((a,b))"
   ]
  },
  {
   "cell_type": "markdown",
   "id": "419185c3-f00a-429c-a8c7-e587a9c88f3e",
   "metadata": {},
   "source": [
    "# Numpy intersection and difference"
   ]
  },
  {
   "cell_type": "code",
   "execution_count": 9,
   "id": "d242e145-3b1c-4a82-8c17-434e4d755b74",
   "metadata": {},
   "outputs": [],
   "source": [
    "import numpy as np\n",
    "x=np.array([10,20,30,40,50,60])"
   ]
  },
  {
   "cell_type": "code",
   "execution_count": 10,
   "id": "5217fb3c-4a73-4a68-803a-edf4e6887c0f",
   "metadata": {},
   "outputs": [],
   "source": [
    "y=np.array([30,50,90,100,120,150])"
   ]
  },
  {
   "cell_type": "code",
   "execution_count": 12,
   "id": "f5477ad3-9fd7-45c4-94fc-7be81aff1e13",
   "metadata": {},
   "outputs": [],
   "source": [
    "intersection = np.intersect1d(x, y)"
   ]
  },
  {
   "cell_type": "code",
   "execution_count": 13,
   "id": "85d1f846-b3c9-42d6-bf96-d36ff13e8822",
   "metadata": {},
   "outputs": [
    {
     "data": {
      "text/plain": [
       "array([30, 50])"
      ]
     },
     "execution_count": 13,
     "metadata": {},
     "output_type": "execute_result"
    }
   ],
   "source": [
    "intersection"
   ]
  },
  {
   "cell_type": "code",
   "execution_count": 14,
   "id": "c95341cf-dcd3-4665-a59b-e933f8ef8081",
   "metadata": {},
   "outputs": [
    {
     "data": {
      "text/plain": [
       "array([10, 20, 40, 60])"
      ]
     },
     "execution_count": 14,
     "metadata": {},
     "output_type": "execute_result"
    }
   ],
   "source": [
    "np.setdiff1d(x,y)"
   ]
  },
  {
   "cell_type": "markdown",
   "id": "1171c33a-e24c-4c89-ba7a-d5261f9a7007",
   "metadata": {},
   "source": [
    "# Addition of NumPy Arrays"
   ]
  },
  {
   "cell_type": "code",
   "execution_count": 15,
   "id": "4be1eaf7-0fe7-4187-a0e6-4c57c591995a",
   "metadata": {},
   "outputs": [],
   "source": [
    "t=np.array([10,20])\n",
    "s=np.array([30,40])"
   ]
  },
  {
   "cell_type": "code",
   "execution_count": 16,
   "id": "0b2ec3ac-5101-4635-8a70-ad3cbf85d892",
   "metadata": {},
   "outputs": [
    {
     "data": {
      "text/plain": [
       "100"
      ]
     },
     "execution_count": 16,
     "metadata": {},
     "output_type": "execute_result"
    }
   ],
   "source": [
    "np.sum([t,s])"
   ]
  },
  {
   "cell_type": "code",
   "execution_count": 19,
   "id": "1aa22865-b7d8-4ead-8466-23336dc08ddf",
   "metadata": {},
   "outputs": [
    {
     "data": {
      "text/plain": [
       "array([40, 60])"
      ]
     },
     "execution_count": 19,
     "metadata": {},
     "output_type": "execute_result"
    }
   ],
   "source": [
    "np.sum([t,s],axis=0)"
   ]
  },
  {
   "cell_type": "markdown",
   "id": "cb146d91-eed5-48cb-bb15-5178653eafdd",
   "metadata": {},
   "source": [
    "# NumPy Array mathematics"
   ]
  },
  {
   "cell_type": "code",
   "execution_count": 20,
   "id": "e8efc023-e3be-44ba-a4a1-424129851966",
   "metadata": {},
   "outputs": [],
   "source": [
    "p=np.array([10,20,30])"
   ]
  },
  {
   "cell_type": "code",
   "execution_count": 21,
   "id": "0da40c8a-0888-408b-965e-864ed6c4e4fb",
   "metadata": {},
   "outputs": [
    {
     "data": {
      "text/plain": [
       "array([11, 21, 31])"
      ]
     },
     "execution_count": 21,
     "metadata": {},
     "output_type": "execute_result"
    }
   ],
   "source": [
    "p+1\n"
   ]
  },
  {
   "cell_type": "code",
   "execution_count": 22,
   "id": "2b13efdd-667f-4dff-a6c2-f1106d1c3edc",
   "metadata": {},
   "outputs": [
    {
     "data": {
      "text/plain": [
       "array([ 5., 10., 15.])"
      ]
     },
     "execution_count": 22,
     "metadata": {},
     "output_type": "execute_result"
    }
   ],
   "source": [
    "p/2"
   ]
  },
  {
   "cell_type": "code",
   "execution_count": 23,
   "id": "5e088392-fece-4bb7-946c-62452b5b6632",
   "metadata": {},
   "outputs": [
    {
     "data": {
      "text/plain": [
       "array([20, 40, 60])"
      ]
     },
     "execution_count": 23,
     "metadata": {},
     "output_type": "execute_result"
    }
   ],
   "source": [
    "p*2"
   ]
  },
  {
   "cell_type": "code",
   "execution_count": 24,
   "id": "761259df-d235-4c55-9ef9-48a42d8473ed",
   "metadata": {},
   "outputs": [
    {
     "data": {
      "text/plain": [
       "array([ 8, 18, 28])"
      ]
     },
     "execution_count": 24,
     "metadata": {},
     "output_type": "execute_result"
    }
   ],
   "source": [
    "p-2"
   ]
  },
  {
   "cell_type": "markdown",
   "id": "2e7cd3d3-f4ef-4762-8888-c1056498694d",
   "metadata": {},
   "source": [
    "# NumPy math functions"
   ]
  },
  {
   "cell_type": "code",
   "execution_count": 30,
   "id": "1371c788-5b6f-4cc7-a55d-4f2bf3cb1f36",
   "metadata": {},
   "outputs": [],
   "source": [
    "import numpy as np\n",
    "nn=np.array([10,20,30,60])"
   ]
  },
  {
   "cell_type": "code",
   "execution_count": 31,
   "id": "dacd84c2-72bd-4b29-a26c-8f9ba3b1dc37",
   "metadata": {},
   "outputs": [
    {
     "data": {
      "text/plain": [
       "30.0"
      ]
     },
     "execution_count": 31,
     "metadata": {},
     "output_type": "execute_result"
    }
   ],
   "source": [
    "np.mean(nn)"
   ]
  },
  {
   "cell_type": "code",
   "execution_count": 32,
   "id": "97693ba0-9fd1-422b-bdb8-d02cb1b81ad2",
   "metadata": {},
   "outputs": [
    {
     "data": {
      "text/plain": [
       "25.0"
      ]
     },
     "execution_count": 32,
     "metadata": {},
     "output_type": "execute_result"
    }
   ],
   "source": [
    "np.median(nn)"
   ]
  },
  {
   "cell_type": "code",
   "execution_count": 33,
   "id": "5834d579-e84d-4d69-95e6-1972883b9814",
   "metadata": {},
   "outputs": [
    {
     "data": {
      "text/plain": [
       "18.708286933869708"
      ]
     },
     "execution_count": 33,
     "metadata": {},
     "output_type": "execute_result"
    }
   ],
   "source": [
    "np.std(nn)"
   ]
  },
  {
   "cell_type": "markdown",
   "id": "0369e8c8-2e7f-44e9-8586-0fd16dcb1ab9",
   "metadata": {},
   "source": [
    "# saving and loading numpy array"
   ]
  },
  {
   "cell_type": "code",
   "execution_count": 34,
   "id": "f0540423-f2b7-4835-84b7-a82afe7589f0",
   "metadata": {},
   "outputs": [],
   "source": [
    "import numpy as np\n",
    "n11=np.array([10,20,30,40,50])"
   ]
  },
  {
   "cell_type": "code",
   "execution_count": 35,
   "id": "57805701-2cf1-4e62-a150-3931224c498f",
   "metadata": {},
   "outputs": [],
   "source": [
    "np.save('my_name',n11) "
   ]
  },
  {
   "cell_type": "code",
   "execution_count": 36,
   "id": "a70eea84-5e7e-46a7-ad20-33eff6328887",
   "metadata": {},
   "outputs": [
    {
     "name": "stdout",
     "output_type": "stream",
     "text": [
      "Data_Sets  NumPy_Basics_to_Advance_for_DataScience.ipynb  my_name.npy\n"
     ]
    }
   ],
   "source": [
    "!ls"
   ]
  },
  {
   "cell_type": "code",
   "execution_count": 37,
   "id": "2a4bb74c-dc57-4968-bb43-5e1be8118adf",
   "metadata": {},
   "outputs": [
    {
     "data": {
      "text/plain": [
       "array([10, 20, 30, 40, 50])"
      ]
     },
     "execution_count": 37,
     "metadata": {},
     "output_type": "execute_result"
    }
   ],
   "source": [
    "np.load('my_name.npy') "
   ]
  },
  {
   "cell_type": "markdown",
   "id": "a4596dd9-bbf4-4edb-8cb3-3987b2f735d7",
   "metadata": {},
   "source": [
    "# Array Creation Methods"
   ]
  },
  {
   "cell_type": "markdown",
   "id": "2098fadd-bd49-44be-9075-cc83237b3eb1",
   "metadata": {},
   "source": [
    "# 1. Array"
   ]
  },
  {
   "cell_type": "markdown",
   "id": "8444c04d-f66b-457e-aac5-805cadd6b795",
   "metadata": {},
   "source": [
    "### Uniform sample"
   ]
  },
  {
   "cell_type": "code",
   "execution_count": 39,
   "id": "441f1711-03ee-4586-be8b-c86c2459419d",
   "metadata": {},
   "outputs": [
    {
     "data": {
      "text/plain": [
       "array([6.78557099, 8.00595296, 5.64743056, 9.39807505])"
      ]
     },
     "execution_count": 39,
     "metadata": {},
     "output_type": "execute_result"
    }
   ],
   "source": [
    "np.random.uniform(5,10,size = 4)"
   ]
  },
  {
   "cell_type": "code",
   "execution_count": 40,
   "id": "b3b0415e-280f-4708-85c0-b545b487614a",
   "metadata": {},
   "outputs": [
    {
     "data": {
      "text/plain": [
       "array([0.8476534 , 0.34311731, 0.67927537, 0.80313857])"
      ]
     },
     "execution_count": 40,
     "metadata": {},
     "output_type": "execute_result"
    }
   ],
   "source": [
    "np.random.uniform(size=4)"
   ]
  },
  {
   "cell_type": "code",
   "execution_count": 41,
   "id": "8f25dc72-5ac0-4e03-a366-40d77894016d",
   "metadata": {},
   "outputs": [
    {
     "data": {
      "text/plain": [
       "array([9, 8, 7, 8, 9, 6, 8, 7, 6, 8])"
      ]
     },
     "execution_count": 41,
     "metadata": {},
     "output_type": "execute_result"
    }
   ],
   "source": [
    "np.random.randint(5,10,10)"
   ]
  },
  {
   "cell_type": "code",
   "execution_count": 42,
   "id": "4c6be782-c188-449b-b781-d0b65f61f2d9",
   "metadata": {},
   "outputs": [
    {
     "data": {
      "text/plain": [
       "array([0.60488509, 0.74524548, 0.23246553])"
      ]
     },
     "execution_count": 42,
     "metadata": {},
     "output_type": "execute_result"
    }
   ],
   "source": [
    "np.random.random(3)"
   ]
  },
  {
   "cell_type": "markdown",
   "id": "ebb3cd2b-94fc-4e21-ba85-97e58ac18742",
   "metadata": {},
   "source": [
    "# 2. Logspace"
   ]
  },
  {
   "cell_type": "code",
   "execution_count": 43,
   "id": "481cf266-e411-430f-ab39-af91fa5fadc6",
   "metadata": {},
   "outputs": [
    {
     "data": {
      "text/plain": [
       "array([1.00000000e+00, 5.65685425e+00, 3.20000000e+01, 1.81019336e+02,\n",
       "       1.02400000e+03])"
      ]
     },
     "execution_count": 43,
     "metadata": {},
     "output_type": "execute_result"
    }
   ],
   "source": [
    "np.logspace(0,10,5,base=2)"
   ]
  },
  {
   "cell_type": "markdown",
   "id": "58a79018-ace9-437e-a1ba-0a2a1d8af7cf",
   "metadata": {},
   "source": [
    "# 8. Array of zero"
   ]
  },
  {
   "cell_type": "code",
   "execution_count": 45,
   "id": "e8c07297-5057-4674-a567-297255268bf6",
   "metadata": {},
   "outputs": [
    {
     "data": {
      "text/plain": [
       "array([[0., 0., 0.],\n",
       "       [0., 0., 0.]])"
      ]
     },
     "execution_count": 45,
     "metadata": {},
     "output_type": "execute_result"
    }
   ],
   "source": [
    " np.zeros((2,3))"
   ]
  },
  {
   "cell_type": "markdown",
   "id": "4edbe5ff-ccf5-40a2-aa89-82c42f24b9e6",
   "metadata": {},
   "source": [
    "# 11 Identity"
   ]
  },
  {
   "cell_type": "code",
   "execution_count": 46,
   "id": "5867bda5-70b6-42fd-b00f-f53832b21c4b",
   "metadata": {},
   "outputs": [
    {
     "data": {
      "text/plain": [
       "array([[1., 0., 0., 0.],\n",
       "       [0., 1., 0., 0.],\n",
       "       [0., 0., 1., 0.],\n",
       "       [0., 0., 0., 1.]])"
      ]
     },
     "execution_count": 46,
     "metadata": {},
     "output_type": "execute_result"
    }
   ],
   "source": [
    "np.identity(4)"
   ]
  },
  {
   "cell_type": "markdown",
   "id": "45e20859-644a-4228-961e-871f32fe1ea9",
   "metadata": {},
   "source": [
    "# Arrary Operations"
   ]
  },
  {
   "cell_type": "code",
   "execution_count": 50,
   "id": "ca6d38d9-faf5-4e4c-a604-6cdfaea52126",
   "metadata": {},
   "outputs": [
    {
     "data": {
      "text/plain": [
       "1"
      ]
     },
     "execution_count": 50,
     "metadata": {},
     "output_type": "execute_result"
    }
   ],
   "source": [
    "arr = np.array([1,3,3,4,5,6,7,8,9])\n",
    "np.min(arr)"
   ]
  },
  {
   "cell_type": "code",
   "execution_count": 51,
   "id": "a5198416-dc21-436a-a718-a8d7c18abe25",
   "metadata": {},
   "outputs": [
    {
     "data": {
      "text/plain": [
       "9"
      ]
     },
     "execution_count": 51,
     "metadata": {},
     "output_type": "execute_result"
    }
   ],
   "source": [
    "np.max(arr)"
   ]
  },
  {
   "cell_type": "code",
   "execution_count": 52,
   "id": "bec35d24-b419-46ab-be45-4f3d57abe7f3",
   "metadata": {},
   "outputs": [
    {
     "data": {
      "text/plain": [
       "(array([1, 3, 4, 5, 6, 7, 8, 9]), array([1, 2, 1, 1, 1, 1, 1, 1]))"
      ]
     },
     "execution_count": 52,
     "metadata": {},
     "output_type": "execute_result"
    }
   ],
   "source": [
    "np.unique(arr, return_counts=True)"
   ]
  },
  {
   "cell_type": "markdown",
   "id": "5d35deac-41f8-4f4f-a6d2-91ecec8337c1",
   "metadata": {},
   "source": [
    "# Digitize"
   ]
  },
  {
   "cell_type": "code",
   "execution_count": 54,
   "id": "154118d2-4dcc-44c6-9636-678a72ab69c4",
   "metadata": {},
   "outputs": [
    {
     "data": {
      "text/plain": [
       "array([0, 1, 1, 2, 2, 2, 4, 5, 5])"
      ]
     },
     "execution_count": 54,
     "metadata": {},
     "output_type": "execute_result"
    }
   ],
   "source": [
    "a = np.array([-0.9, 0.5, 0.9, 1, 1.2,1.4, 3.6, 4.7, 5.3])\n",
    "bins = np.array([0,1,2,3,4])\n",
    "np.digitize(a,bins)"
   ]
  },
  {
   "cell_type": "markdown",
   "id": "0b83cb3f-4b0b-437d-a89c-4da13aec62e5",
   "metadata": {},
   "source": [
    "# Expand Dimensions"
   ]
  },
  {
   "cell_type": "code",
   "execution_count": 56,
   "id": "17140b0c-c79e-4816-8db2-c99b1723edef",
   "metadata": {},
   "outputs": [
    {
     "data": {
      "text/plain": [
       "array([[ 8],\n",
       "       [14],\n",
       "       [ 1],\n",
       "       [ 8],\n",
       "       [10],\n",
       "       [32],\n",
       "       [43],\n",
       "       [34]])"
      ]
     },
     "execution_count": 56,
     "metadata": {},
     "output_type": "execute_result"
    }
   ],
   "source": [
    "arr = np.array([8,14,1,8,10,32,43,34])\n",
    "np.expand_dims(arr, axis=1)"
   ]
  },
  {
   "cell_type": "code",
   "execution_count": 57,
   "id": "2d62b862-69ea-45f8-9326-940561bdf331",
   "metadata": {},
   "outputs": [
    {
     "data": {
      "text/plain": [
       "array([[ 8, 14,  1,  8, 10, 32, 43, 34]])"
      ]
     },
     "execution_count": 57,
     "metadata": {},
     "output_type": "execute_result"
    }
   ],
   "source": [
    "arr = np.array([8,14,1,8,10,32,43,34])\n",
    "np.expand_dims(arr, axis=0)"
   ]
  },
  {
   "cell_type": "markdown",
   "id": "fa4f993f-8f30-4e6b-84e5-204c034da747",
   "metadata": {},
   "source": [
    "# Squeeze "
   ]
  },
  {
   "cell_type": "code",
   "execution_count": 58,
   "id": "707bcdba-5d95-4528-8f18-bc71c96e8565",
   "metadata": {},
   "outputs": [
    {
     "data": {
      "text/plain": [
       "array([8, 3, 5])"
      ]
     },
     "execution_count": 58,
     "metadata": {},
     "output_type": "execute_result"
    }
   ],
   "source": [
    "arr = np.array([[8], [3], [5]])\n",
    "np.squeeze(arr)"
   ]
  },
  {
   "cell_type": "markdown",
   "id": "12e33652-cce9-4b0c-bce5-bcd7dd088c70",
   "metadata": {},
   "source": [
    "# count non zero"
   ]
  },
  {
   "cell_type": "code",
   "execution_count": 59,
   "id": "cfc6a7f0-a589-4f37-938b-9ef4554341a9",
   "metadata": {},
   "outputs": [
    {
     "data": {
      "text/plain": [
       "3"
      ]
     },
     "execution_count": 59,
     "metadata": {},
     "output_type": "execute_result"
    }
   ],
   "source": [
    "a = np.array([0,0,0,1,1,1,0])\n",
    "np.count_nonzero(a)"
   ]
  },
  {
   "cell_type": "markdown",
   "id": "153b0149-d9f1-42af-9b4a-bb9ea91e4318",
   "metadata": {},
   "source": [
    "# Argwhere"
   ]
  },
  {
   "cell_type": "code",
   "execution_count": 60,
   "id": "ad983734-6786-4e9c-b477-11445c497ab3",
   "metadata": {},
   "outputs": [
    {
     "data": {
      "text/plain": [
       "array([[2],\n",
       "       [3],\n",
       "       [4]])"
      ]
     },
     "execution_count": 60,
     "metadata": {},
     "output_type": "execute_result"
    }
   ],
   "source": [
    "a=np.array([0,0,1,1,1,0])\n",
    "np.argwhere(a)"
   ]
  },
  {
   "cell_type": "markdown",
   "id": "0e0a3d05-b133-4eb5-a9ce-d7522830a987",
   "metadata": {},
   "source": [
    "# Argmax and Argmin"
   ]
  },
  {
   "cell_type": "code",
   "execution_count": 61,
   "id": "6dfdb8d1-97fa-4a62-b9fb-07b3f18fea86",
   "metadata": {},
   "outputs": [
    {
     "data": {
      "text/plain": [
       "2"
      ]
     },
     "execution_count": 61,
     "metadata": {},
     "output_type": "execute_result"
    }
   ],
   "source": [
    "arr= np.array([[0.12,0.60,0.79,0.45]])\n",
    "np.argmax(arr)"
   ]
  },
  {
   "cell_type": "code",
   "execution_count": 62,
   "id": "89db16bf-9896-4711-aca8-66e8dea96649",
   "metadata": {},
   "outputs": [
    {
     "data": {
      "text/plain": [
       "0"
      ]
     },
     "execution_count": 62,
     "metadata": {},
     "output_type": "execute_result"
    }
   ],
   "source": [
    "np.argmin(arr)"
   ]
  },
  {
   "cell_type": "markdown",
   "id": "9af8d897-244e-400b-aa91-207de4293598",
   "metadata": {},
   "source": [
    "# Sorting"
   ]
  },
  {
   "cell_type": "code",
   "execution_count": 63,
   "id": "f46b5d9f-0a1a-4803-9092-b71c977174a6",
   "metadata": {},
   "outputs": [
    {
     "data": {
      "text/plain": [
       "array([1, 2, 3, 4, 7])"
      ]
     },
     "execution_count": 63,
     "metadata": {},
     "output_type": "execute_result"
    }
   ],
   "source": [
    "arr = np.array([2,3,1,7,4])\n",
    "np.sort(arr)"
   ]
  },
  {
   "cell_type": "markdown",
   "id": "203dafc8-f777-4f7c-a1d3-44b9080c8335",
   "metadata": {},
   "source": [
    "# Abs"
   ]
  },
  {
   "cell_type": "code",
   "execution_count": 64,
   "id": "2555b0b3-1749-4044-bf11-27da9c082e3a",
   "metadata": {},
   "outputs": [
    {
     "data": {
      "text/plain": [
       "array([[1, 3, 4],\n",
       "       [2, 4, 3]])"
      ]
     },
     "execution_count": 64,
     "metadata": {},
     "output_type": "execute_result"
    }
   ],
   "source": [
    "A = np.array([[1,-3,4] , [-2,-4,3]])\n",
    "np.abs(A)"
   ]
  },
  {
   "cell_type": "code",
   "execution_count": 66,
   "id": "60f5f161-9aaa-40fd-aa5d-b209c0625ac1",
   "metadata": {},
   "outputs": [
    {
     "data": {
      "text/plain": [
       "(2, 3)"
      ]
     },
     "execution_count": 66,
     "metadata": {},
     "output_type": "execute_result"
    }
   ],
   "source": [
    "np.shape(A)"
   ]
  },
  {
   "cell_type": "markdown",
   "id": "c05c0dcf-fa20-4fd0-8f90-6215b3ffefdd",
   "metadata": {},
   "source": [
    "# Round"
   ]
  },
  {
   "cell_type": "code",
   "execution_count": 68,
   "id": "2bcb7266-529b-44fa-b52e-b207a5fa4150",
   "metadata": {},
   "outputs": [
    {
     "data": {
      "text/plain": [
       "array([[0.56732883, 0.51561611, 0.93803754, 0.04184304],\n",
       "       [0.93723313, 0.0549437 , 0.56122537, 0.88765212],\n",
       "       [0.44300664, 0.80004318, 0.8767125 , 0.41878222]])"
      ]
     },
     "execution_count": 68,
     "metadata": {},
     "output_type": "execute_result"
    }
   ],
   "source": [
    "a = np.random.random(size=(3,4))\n",
    "a"
   ]
  },
  {
   "cell_type": "code",
   "execution_count": 70,
   "id": "73469099-79ce-42d1-bd6e-dc1a77607047",
   "metadata": {},
   "outputs": [
    {
     "data": {
      "text/plain": [
       "array([[0.57, 0.52, 0.94, 0.04],\n",
       "       [0.94, 0.05, 0.56, 0.89],\n",
       "       [0.44, 0.8 , 0.88, 0.42]])"
      ]
     },
     "execution_count": 70,
     "metadata": {},
     "output_type": "execute_result"
    }
   ],
   "source": [
    "np.round(a,decimals=2)"
   ]
  },
  {
   "cell_type": "markdown",
   "id": "7a518fce-ed8a-4b37-9258-46524aec025a",
   "metadata": {},
   "source": [
    "# clip"
   ]
  },
  {
   "cell_type": "code",
   "execution_count": 1,
   "id": "a08a2182-9c58-4506-a8e1-0ed6d836af46",
   "metadata": {},
   "outputs": [
    {
     "name": "stdout",
     "output_type": "stream",
     "text": [
      "The history saving thread hit an unexpected error (OperationalError('attempt to write a readonly database')).History will not be written to the database.\n"
     ]
    }
   ],
   "source": [
    "import numpy as np"
   ]
  },
  {
   "cell_type": "code",
   "execution_count": 2,
   "id": "af7865c4-6ecc-48ad-9c13-c0228c836f21",
   "metadata": {},
   "outputs": [
    {
     "data": {
      "text/plain": [
       "array([0, 1, 0, 0, 5, 5, 5, 2, 3])"
      ]
     },
     "execution_count": 2,
     "metadata": {},
     "output_type": "execute_result"
    }
   ],
   "source": [
    "arr = np.array([0,1,-3,-4,5,6,7,2,3])\n",
    "arr.clip(0,5)"
   ]
  },
  {
   "cell_type": "markdown",
   "id": "0ca2d0a3-ab53-473c-94e7-f7ebaccbeb2e",
   "metadata": {},
   "source": [
    "# Replacing value inside array (Where)"
   ]
  },
  {
   "cell_type": "code",
   "execution_count": 3,
   "id": "54e190ab-deb0-4a41-84b4-922483d5a264",
   "metadata": {},
   "outputs": [
    {
     "data": {
      "text/plain": [
       "array([[ 0,  1,  2],\n",
       "       [ 3,  4,  5],\n",
       "       [ 6,  7,  8],\n",
       "       [ 9, 10, 11]])"
      ]
     },
     "execution_count": 3,
     "metadata": {},
     "output_type": "execute_result"
    }
   ],
   "source": [
    "a = np.arange(12).reshape(4,3)\n",
    "a"
   ]
  },
  {
   "cell_type": "code",
   "execution_count": 4,
   "id": "ea91c11e-52f1-4a8f-ab94-9d8e609d410f",
   "metadata": {},
   "outputs": [
    {
     "data": {
      "text/plain": [
       "(array([2, 2, 2, 3, 3, 3]), array([0, 1, 2, 0, 1, 2]))"
      ]
     },
     "execution_count": 4,
     "metadata": {},
     "output_type": "execute_result"
    }
   ],
   "source": [
    "np.where(a>5)"
   ]
  },
  {
   "cell_type": "markdown",
   "id": "4f5c53a8-1a96-4807-b2ce-2e6049ee7b57",
   "metadata": {},
   "source": [
    "np.put(a, ind, v)"
   ]
  },
  {
   "cell_type": "code",
   "execution_count": 6,
   "id": "e9af3301-dc02-4e1b-a208-9adc1cde7584",
   "metadata": {},
   "outputs": [
    {
     "data": {
      "text/plain": [
       "array([1, 2, 3, 4, 5, 6])"
      ]
     },
     "execution_count": 6,
     "metadata": {},
     "output_type": "execute_result"
    }
   ],
   "source": [
    "arr = np.array([1,2,3,4,5,6])\n",
    "arr"
   ]
  },
  {
   "cell_type": "code",
   "execution_count": 7,
   "id": "9f302414-c500-418b-a70b-0b2ecb10b20b",
   "metadata": {},
   "outputs": [
    {
     "data": {
      "text/plain": [
       "array([1, 6, 7, 4, 5, 6])"
      ]
     },
     "execution_count": 7,
     "metadata": {},
     "output_type": "execute_result"
    }
   ],
   "source": [
    "np.put(arr,[1,2],[6,7])\n",
    "arr"
   ]
  },
  {
   "cell_type": "markdown",
   "id": "8bc9862c-fd53-4f7c-8c48-90dfc88d63d4",
   "metadata": {},
   "source": [
    "# Copyto"
   ]
  },
  {
   "cell_type": "code",
   "execution_count": 10,
   "id": "ce8ddb53-3145-44d9-adec-8f48f4396027",
   "metadata": {},
   "outputs": [
    {
     "name": "stdout",
     "output_type": "stream",
     "text": [
      "Before arr1 [1 2 3]\n",
      "Before arr2 [4 5 6]\n",
      "After arr1 [4 5 6]\n",
      "Before arr2 [4 5 6]\n"
     ]
    }
   ],
   "source": [
    "arr1=np.array([1,2,3])\n",
    "arr2=np.array([4,5,6])\n",
    "print(\"Before arr1\",arr1)\n",
    "print(\"Before arr2\",arr2)\n",
    "np.copyto(arr1,arr2)\n",
    "print(\"After arr1\",arr1)\n",
    "print(\"Before arr2\",arr2)"
   ]
  },
  {
   "cell_type": "markdown",
   "id": "621f25bb-ae52-4d8b-a293-26efb2e1e0be",
   "metadata": {},
   "source": [
    "# Splitting"
   ]
  },
  {
   "cell_type": "markdown",
   "id": "2a2bf30b-73ba-4d68-bd86-401e0ba56ce9",
   "metadata": {},
   "source": [
    "## Horizontal split"
   ]
  },
  {
   "cell_type": "code",
   "execution_count": 13,
   "id": "9422c013-7055-46a1-803a-810b4e888547",
   "metadata": {},
   "outputs": [
    {
     "data": {
      "text/plain": [
       "[array([[3, 4],\n",
       "        [6, 7]]),\n",
       " array([[5, 2],\n",
       "        [2, 6]])]"
      ]
     },
     "execution_count": 13,
     "metadata": {},
     "output_type": "execute_result"
    }
   ],
   "source": [
    "A = np.array([[3,4,5,2],[6,7,2,6]])\n",
    "np.hsplit(A,2)"
   ]
  },
  {
   "cell_type": "markdown",
   "id": "1593810d-04c4-4e43-8041-4818686e9b36",
   "metadata": {},
   "source": [
    "## Vertical split"
   ]
  },
  {
   "cell_type": "code",
   "execution_count": 15,
   "id": "91c8acf4-d4f1-4b94-b20b-439c651898da",
   "metadata": {},
   "outputs": [
    {
     "data": {
      "text/plain": [
       "[array([[3, 4, 5, 2]]), array([[6, 7, 2, 6]])]"
      ]
     },
     "execution_count": 15,
     "metadata": {},
     "output_type": "execute_result"
    }
   ],
   "source": [
    "A = np.array([[3,4,5,2],[6,7,2,6]])\n",
    "np.vsplit(A,2)"
   ]
  },
  {
   "cell_type": "markdown",
   "id": "5d677506-f0e9-4d1f-a23c-be94e8c3b82c",
   "metadata": {},
   "source": [
    "# Repeat"
   ]
  },
  {
   "cell_type": "code",
   "execution_count": 17,
   "id": "6fddc4ad-518d-4283-b4e4-7e90e59ffa24",
   "metadata": {},
   "outputs": [
    {
     "data": {
      "text/plain": [
       "array(['2017', '2017', '2017'], dtype='<U4')"
      ]
     },
     "execution_count": 17,
     "metadata": {},
     "output_type": "execute_result"
    }
   ],
   "source": [
    "np.repeat('2017',3)"
   ]
  },
  {
   "cell_type": "markdown",
   "id": "ced01743-e93e-4cec-a7fd-fb082adef88e",
   "metadata": {},
   "source": [
    "# Einstein Sumation Conventions"
   ]
  },
  {
   "cell_type": "code",
   "execution_count": 20,
   "id": "ab298d81-b2b3-4541-b7d7-a568f68b11cb",
   "metadata": {},
   "outputs": [
    {
     "ename": "ValueError",
     "evalue": "cannot reshape array of size 2 into shape (3,3)",
     "output_type": "error",
     "traceback": [
      "\u001b[0;31m---------------------------------------------------------------------------\u001b[0m",
      "\u001b[0;31mValueError\u001b[0m                                Traceback (most recent call last)",
      "Cell \u001b[0;32mIn[20], line 1\u001b[0m\n\u001b[0;32m----> 1\u001b[0m a \u001b[38;5;241m=\u001b[39m np\u001b[38;5;241m.\u001b[39marray([\u001b[38;5;241m1\u001b[39m,\u001b[38;5;241m2\u001b[39m])\u001b[38;5;241m.\u001b[39mreshape(\u001b[38;5;241m3\u001b[39m,\u001b[38;5;241m3\u001b[39m)\n\u001b[1;32m      2\u001b[0m b \u001b[38;5;241m=\u001b[39m np\u001b[38;5;241m.\u001b[39marray([\u001b[38;5;241m3\u001b[39m,\u001b[38;5;241m4\u001b[39m])\u001b[38;5;241m.\u001b[39mreshape(\u001b[38;5;241m3\u001b[39m,\u001b[38;5;241m3\u001b[39m)\n\u001b[1;32m      4\u001b[0m np\u001b[38;5;241m.\u001b[39meinsum(\u001b[38;5;124m'\u001b[39m\u001b[38;5;124mii->i\u001b[39m\u001b[38;5;124m'\u001b[39m,a)\n",
      "\u001b[0;31mValueError\u001b[0m: cannot reshape array of size 2 into shape (3,3)"
     ]
    }
   ],
   "source": [
    "a = np.array([1,2]).reshape(3,3)\n",
    "b = np.array([3,4]).reshape(3,3)\n",
    "\n",
    "np.einsum('ii->i',a)"
   ]
  },
  {
   "cell_type": "code",
   "execution_count": 22,
   "id": "4004b24f-f363-470c-8a60-e676a646334a",
   "metadata": {},
   "outputs": [
    {
     "name": "stdout",
     "output_type": "stream",
     "text": [
      "Original 2D array:\n",
      " [[1 2 3]\n",
      " [4 5 6]]\n",
      "Reshaped 1D array:\n",
      " [1 2 3 4 5 6]\n"
     ]
    }
   ],
   "source": [
    "arr_2d = np.array([[1,2,3],[4,5,6]])\n",
    "arr_1d = arr_2d.reshape(-1)\n",
    "arr_1d = arr_2d.ravel()\n",
    "\n",
    "print(\"Original 2D array:\\n\", arr_2d)\n",
    "print(\"Reshaped 1D array:\\n\", arr_1d)"
   ]
  },
  {
   "cell_type": "code",
   "execution_count": 27,
   "id": "79c74a98-192b-4688-ab48-92f83baf1dd9",
   "metadata": {},
   "outputs": [],
   "source": [
    "matrix1=np.array([[1,2,3],[5,4,6],[8,9,3]])\n",
    "matrix2=np.array([[29,38,69],[54,43,62],[87,98,39]])"
   ]
  },
  {
   "cell_type": "code",
   "execution_count": 28,
   "id": "3265abf9-e8f3-4b43-a7fb-0fd273d8fbd2",
   "metadata": {},
   "outputs": [
    {
     "data": {
      "text/plain": [
       "array([[ 398,  418,  310],\n",
       "       [ 883,  950,  827],\n",
       "       [ 979,  985, 1227]])"
      ]
     },
     "execution_count": 28,
     "metadata": {},
     "output_type": "execute_result"
    }
   ],
   "source": [
    "np.einsum('ij,jk',matrix1,matrix2)"
   ]
  },
  {
   "cell_type": "code",
   "execution_count": 29,
   "id": "e634ecd9-497b-4d7d-9630-d81945055d9f",
   "metadata": {},
   "outputs": [
    {
     "data": {
      "text/plain": [
       "8"
      ]
     },
     "execution_count": 29,
     "metadata": {},
     "output_type": "execute_result"
    }
   ],
   "source": [
    "np.einsum('ii',matrix1)"
   ]
  },
  {
   "cell_type": "markdown",
   "id": "9d7aa689-cf57-47c5-9ca0-22cd74172de3",
   "metadata": {},
   "source": [
    "# Histogram"
   ]
  },
  {
   "cell_type": "code",
   "execution_count": 31,
   "id": "b7b29e2c-7492-4ce6-a677-be0bd02d24e0",
   "metadata": {},
   "outputs": [
    {
     "data": {
      "text/plain": [
       "(array([2, 0, 1, 0, 1, 0, 1, 0, 2, 1]),\n",
       " array([2. , 2.5, 3. , 3.5, 4. , 4.5, 5. , 5.5, 6. , 6.5, 7. ]))"
      ]
     },
     "execution_count": 31,
     "metadata": {},
     "output_type": "execute_result"
    }
   ],
   "source": [
    "A = np.array([[3,4,5,2],\n",
    "              [6,7,2,6]])\n",
    "np.histogram(A)"
   ]
  },
  {
   "cell_type": "code",
   "execution_count": null,
   "id": "ba807209-e14b-43d2-8e04-d805540fa384",
   "metadata": {},
   "outputs": [],
   "source": []
  }
 ],
 "metadata": {
  "kernelspec": {
   "display_name": "Python 3 (ipykernel)",
   "language": "python",
   "name": "python3"
  },
  "language_info": {
   "codemirror_mode": {
    "name": "ipython",
    "version": 3
   },
   "file_extension": ".py",
   "mimetype": "text/x-python",
   "name": "python",
   "nbconvert_exporter": "python",
   "pygments_lexer": "ipython3",
   "version": "3.12.7"
  }
 },
 "nbformat": 4,
 "nbformat_minor": 5
}
