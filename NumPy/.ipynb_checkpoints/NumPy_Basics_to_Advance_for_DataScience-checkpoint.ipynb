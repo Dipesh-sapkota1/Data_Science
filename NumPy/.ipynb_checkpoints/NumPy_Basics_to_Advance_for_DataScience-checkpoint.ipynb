{
 "cells": [
  {
   "cell_type": "markdown",
   "id": "92ceedf5-3a8a-41f5-bfb7-41abae945953",
   "metadata": {},
   "source": [
    "# Single dimension NumPy Array\n"
   ]
  },
  {
   "cell_type": "code",
   "execution_count": 12,
   "id": "6bb9af49-82bb-4080-88d3-88e399b7ca66",
   "metadata": {},
   "outputs": [
    {
     "name": "stdout",
     "output_type": "stream",
     "text": [
      "Requirement already satisfied: numpy in /home/dipesh/.pyenv/versions/3.11.9/lib/python3.11/site-packages (2.2.6)\n",
      "\n",
      "\u001b[1m[\u001b[0m\u001b[34;49mnotice\u001b[0m\u001b[1;39;49m]\u001b[0m\u001b[39;49m A new release of pip is available: \u001b[0m\u001b[31;49m24.0\u001b[0m\u001b[39;49m -> \u001b[0m\u001b[32;49m25.1.1\u001b[0m\n",
      "\u001b[1m[\u001b[0m\u001b[34;49mnotice\u001b[0m\u001b[1;39;49m]\u001b[0m\u001b[39;49m To update, run: \u001b[0m\u001b[32;49mpip install --upgrade pip\u001b[0m\n"
     ]
    }
   ],
   "source": [
    "!pip install numpy"
   ]
  },
  {
   "cell_type": "code",
   "execution_count": 17,
   "id": "9b3413db-9880-49e5-881a-93473800a369",
   "metadata": {},
   "outputs": [
    {
     "data": {
      "text/plain": [
       "array([10, 20, 30, 40])"
      ]
     },
     "execution_count": 17,
     "metadata": {},
     "output_type": "execute_result"
    }
   ],
   "source": [
    "import numpy as np\n",
    "n1=np.array([10,20,30,40])\n",
    "n1"
   ]
  },
  {
   "cell_type": "code",
   "execution_count": 18,
   "id": "5792f0bb-e17e-4c7c-b125-43b64c0c82d7",
   "metadata": {},
   "outputs": [
    {
     "data": {
      "text/plain": [
       "numpy.ndarray"
      ]
     },
     "execution_count": 18,
     "metadata": {},
     "output_type": "execute_result"
    }
   ],
   "source": [
    "type(n1)"
   ]
  },
  {
   "cell_type": "markdown",
   "id": "dd4c928e-edd3-4a76-95fd-69e547423396",
   "metadata": {},
   "source": [
    "# Multidimension NumPy array"
   ]
  },
  {
   "cell_type": "code",
   "execution_count": 19,
   "id": "e7e42463-daae-4e7c-9439-f6a6a46fe153",
   "metadata": {},
   "outputs": [
    {
     "name": "stdout",
     "output_type": "stream",
     "text": [
      "[[10 20 30]\n",
      " [10 80 90]\n",
      " [10 20 50]]\n"
     ]
    }
   ],
   "source": [
    "import numpy as np\n",
    "n2=np.array([[10,20,30],[10,80,90],[10,20,50]])\n",
    "print(n2)\n"
   ]
  },
  {
   "cell_type": "markdown",
   "id": "df1f059f-fa71-4b1a-9e12-2428bd865026",
   "metadata": {},
   "source": [
    "# initilize NumPy array with zeros"
   ]
  },
  {
   "cell_type": "code",
   "execution_count": 21,
   "id": "8fbe140b-4f0a-4705-86fd-b753c65d2bd9",
   "metadata": {},
   "outputs": [
    {
     "data": {
      "text/plain": [
       "array([[0., 0., 0.],\n",
       "       [0., 0., 0.]])"
      ]
     },
     "execution_count": 21,
     "metadata": {},
     "output_type": "execute_result"
    }
   ],
   "source": [
    "n3=np.zeros((2,3))\n",
    "n3"
   ]
  },
  {
   "cell_type": "code",
   "execution_count": 22,
   "id": "38a4ac37-c0b2-44db-a337-b97c1214c084",
   "metadata": {},
   "outputs": [
    {
     "data": {
      "text/plain": [
       "array([[0., 0., 0., 0., 0., 0., 0., 0., 0.],\n",
       "       [0., 0., 0., 0., 0., 0., 0., 0., 0.],\n",
       "       [0., 0., 0., 0., 0., 0., 0., 0., 0.],\n",
       "       [0., 0., 0., 0., 0., 0., 0., 0., 0.],\n",
       "       [0., 0., 0., 0., 0., 0., 0., 0., 0.],\n",
       "       [0., 0., 0., 0., 0., 0., 0., 0., 0.],\n",
       "       [0., 0., 0., 0., 0., 0., 0., 0., 0.],\n",
       "       [0., 0., 0., 0., 0., 0., 0., 0., 0.],\n",
       "       [0., 0., 0., 0., 0., 0., 0., 0., 0.]])"
      ]
     },
     "execution_count": 22,
     "metadata": {},
     "output_type": "execute_result"
    }
   ],
   "source": [
    "n4=np.zeros((9,9))\n",
    "n4"
   ]
  },
  {
   "cell_type": "markdown",
   "id": "877b4b7d-ea8f-4b97-8dcf-34e84cb8be7c",
   "metadata": {},
   "source": [
    "# initilization a array of matrix with full then"
   ]
  },
  {
   "cell_type": "code",
   "execution_count": 24,
   "id": "efeb8ee7-634a-49ae-9ceb-add8adba75b4",
   "metadata": {},
   "outputs": [
    {
     "data": {
      "text/plain": [
       "array([[9, 9, 9],\n",
       "       [9, 9, 9],\n",
       "       [9, 9, 9]])"
      ]
     },
     "execution_count": 24,
     "metadata": {},
     "output_type": "execute_result"
    }
   ],
   "source": [
    "n5=np.full((3,3),9)\n",
    "n5"
   ]
  },
  {
   "cell_type": "markdown",
   "id": "98bfc164-3dab-4fee-98fe-8c58b0171232",
   "metadata": {},
   "source": [
    "# initilization of NumPy array within a range."
   ]
  },
  {
   "cell_type": "code",
   "execution_count": 25,
   "id": "c0c98859-5114-4241-b9aa-e8dfc3fd281f",
   "metadata": {},
   "outputs": [
    {
     "data": {
      "text/plain": [
       "array([10, 11, 12, 13, 14, 15, 16, 17, 18, 19])"
      ]
     },
     "execution_count": 25,
     "metadata": {},
     "output_type": "execute_result"
    }
   ],
   "source": [
    "n6=np.arange(10,20)\n",
    "n6"
   ]
  },
  {
   "cell_type": "markdown",
   "id": "3f78bbfa-f76e-4aba-bf99-26168aa661d7",
   "metadata": {},
   "source": [
    "# initilization of NumpPy array with the skip numbers"
   ]
  },
  {
   "cell_type": "code",
   "execution_count": null,
   "id": "0530ffaf-17ed-4807-b033-96bdbd48361a",
   "metadata": {},
   "outputs": [],
   "source": [
    "n9="
   ]
  }
 ],
 "metadata": {
  "kernelspec": {
   "display_name": "Python 3 (ipykernel)",
   "language": "python",
   "name": "python3"
  },
  "language_info": {
   "codemirror_mode": {
    "name": "ipython",
    "version": 3
   },
   "file_extension": ".py",
   "mimetype": "text/x-python",
   "name": "python",
   "nbconvert_exporter": "python",
   "pygments_lexer": "ipython3",
   "version": "3.12.7"
  }
 },
 "nbformat": 4,
 "nbformat_minor": 5
}
